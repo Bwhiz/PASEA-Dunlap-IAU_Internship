{
 "cells": [
  {
   "cell_type": "markdown",
   "metadata": {},
   "source": [
    "# When Does The Moon Rise in Accra, Ghana on 2020-10-20\n",
    "\n",
    "## Authors: \n",
    "Jielai Zhang\n",
    "\n",
    "## Learning Goals:\n",
    "- Find time now in Python\n",
    "- Learn how to define parameters for a telescope observatory in Python\n",
    "- Learn how to find out sunset, sunrise, moonset and moonrise times for the telescope observatory in Python\n",
    "- Change date time in string format to datetime format\n",
    "- Plot verticle lines with time on the x-axis\n",
    "\n",
    "## Keywords\n",
    "Astroplan, observing preparation\n",
    "\n",
    "## Summary\n",
    "This tutorial describes how to get the location information for an observatory, get the position information for an object in the sky and find out what time it will rise on a given date. The exercise will be done using Universal Time."
   ]
  },
  {
   "cell_type": "code",
   "execution_count": 1,
   "metadata": {},
   "outputs": [],
   "source": [
    "from astropy.time import Time\n",
    "from astroplan import download_IERS_A \n",
    "from astropy.coordinates import EarthLocation\n",
    "from astroplan import Observer\n",
    "import matplotlib\n",
    "import matplotlib.pyplot as plt\n",
    "from datetime import datetime"
   ]
  },
  {
   "cell_type": "markdown",
   "metadata": {},
   "source": [
    "### Question 1\n",
    "What is your name? Print it out."
   ]
  },
  {
   "cell_type": "code",
   "execution_count": 2,
   "metadata": {},
   "outputs": [
    {
     "name": "stdout",
     "output_type": "stream",
     "text": [
      "My name is Ejelonu O. Benedict\n"
     ]
    }
   ],
   "source": [
    "# Fill in this cell with your name, and print out your name using the print statement.\n",
    "applicant_name = 'Ejelonu O. Benedict'\n",
    "print('My name is',applicant_name)"
   ]
  },
  {
   "cell_type": "markdown",
   "metadata": {},
   "source": [
    "### What is the current UTC?"
   ]
  },
  {
   "cell_type": "code",
   "execution_count": 3,
   "metadata": {},
   "outputs": [
    {
     "name": "stdout",
     "output_type": "stream",
     "text": [
      "2020-10-25 23:31:22.843477\n",
      "2020.8168855888066\n"
     ]
    }
   ],
   "source": [
    "now = Time.now()\n",
    "print(now)\n",
    "print(now.decimalyear)"
   ]
  },
  {
   "cell_type": "markdown",
   "metadata": {},
   "source": [
    "### How much time has passed since WAISSYA 2019 (WAISSYA is now named PASEA)"
   ]
  },
  {
   "cell_type": "code",
   "execution_count": 4,
   "metadata": {},
   "outputs": [
    {
     "name": "stdout",
     "output_type": "stream",
     "text": [
      "358.980125503206 days\n"
     ]
    }
   ],
   "source": [
    "time_pasea2019 = Time(\"2019-11-02\", format='iso')\n",
    "time_passed    = now-time_pasea2019\n",
    "print(time_passed,'days')"
   ]
  },
  {
   "cell_type": "markdown",
   "metadata": {},
   "source": [
    "### Check to see what observatories are available in the \"EarthLocation\" database."
   ]
  },
  {
   "cell_type": "code",
   "execution_count": 5,
   "metadata": {},
   "outputs": [
    {
     "name": "stdout",
     "output_type": "stream",
     "text": [
      "['', '', '', 'ALMA', 'ATST', 'Anglo-Australian Observatory', 'Apache Point', 'Apache Point Observatory', 'Atacama Large Millimeter Array', 'BAO', 'BBSO', 'Beijing XingLong Observatory', 'Black Moshannon Observatory', 'CHARA', 'Canada-France-Hawaii Telescope', 'Catalina Observatory', 'Cerro Pachon', 'Cerro Paranal', 'Cerro Tololo', 'Cerro Tololo Interamerican Observatory', 'DCT', 'DKIST', 'Discovery Channel Telescope', 'Dominion Astrophysical Observatory', 'GBT', 'Gemini South', 'Green Bank Telescope', 'Hale Telescope', 'Haleakala Observatories', 'Happy Jack', 'IAO', 'JCMT', 'James Clerk Maxwell Telescope', 'Jansky Very Large Array', 'Keck Observatory', 'Kitt Peak', 'Kitt Peak National Observatory', 'La Silla Observatory', 'Large Binocular Telescope', 'Las Campanas Observatory', 'Lick Observatory', 'Lowell Observatory', 'MWA', 'Manastash Ridge Observatory', 'McDonald Observatory', 'Medicina', 'Medicina Dish', 'Michigan-Dartmouth-MIT Observatory', 'Mount Graham International Observatory', 'Mt Graham', 'Mt. Ekar 182 cm. Telescope', 'Mt. Stromlo Observatory', 'Multiple Mirror Telescope', 'Murchison Widefield Array', 'NOV', 'NST', 'National Observatory of Venezuela', 'Noto', 'Observatorio Astronomico Nacional, San Pedro Martir', 'Observatorio Astronomico Nacional, Tonantzintla', 'Palomar', 'Paranal Observatory', 'Roque de los Muchachos', 'SAAO', 'SALT', 'SPO', 'SRT', 'Sac Peak', 'Sacramento Peak', 'Siding Spring Observatory', 'Southern African Large Telescope', 'Subaru', 'Subaru Telescope', 'Sunspot', 'Sutherland', 'TUG', 'UKIRT', 'United Kingdom Infrared Telescope', 'Vainu Bappu Observatory', 'Very Large Array', 'W. M. Keck Observatory', 'Whipple', 'Whipple Observatory', 'aao', 'alma', 'apo', 'bbso', 'bmo', 'cfht', 'ctio', 'dao', 'dct', 'dkist', 'ekar', 'example_site', 'flwo', 'gbt', 'gemini_north', 'gemini_south', 'gemn', 'gems', 'greenwich', 'haleakala', 'iao', 'irtf', 'jcmt', 'keck', 'kpno', 'lapalma', 'lasilla', 'lbt', 'lco', 'lick', 'lowell', 'mcdonald', 'mdm', 'medicina', 'mmt', 'mro', 'mso', 'mtbigelow', 'mwa', 'mwo', 'noto', 'ohp', 'paranal', 'salt', 'sirene', 'spm', 'spo', 'srt', 'sso', 'tona', 'tug', 'ukirt', 'vbo', 'vla']\n"
     ]
    }
   ],
   "source": [
    "print((EarthLocation.get_site_names()))"
   ]
  },
  {
   "cell_type": "markdown",
   "metadata": {},
   "source": [
    "### Setting up observatory location"
   ]
  },
  {
   "cell_type": "code",
   "execution_count": 6,
   "metadata": {},
   "outputs": [],
   "source": [
    "location  = EarthLocation.of_site(\"Cerro Tololo\")\n",
    "CerroTololo = Observer(location = location, timezone = 'America/Santiago',\n",
    "                             name = \"CT\", description = \"Cerro Tololo Telescope\")"
   ]
  },
  {
   "cell_type": "markdown",
   "metadata": {},
   "source": [
    "### Question 2\n",
    "What is the Longtitude, Latitutde and Elevation of the Cerro Tololo Telescope as specified here?"
   ]
  },
  {
   "cell_type": "code",
   "execution_count": 7,
   "metadata": {},
   "outputs": [
    {
     "name": "stdout",
     "output_type": "stream",
     "text": [
      "The Longitude, Latitude and Elevation of the Cerro Tololo Telescope is given as:\n",
      "(1814303.74553723, -5214365.7436216, -3187340.56598756) m\n"
     ]
    }
   ],
   "source": [
    "# Fill in this cell to print the Longitude, Latitutde and Elevation inforamtion of the Cerro Tololo Telescope\n",
    "# I have not told you how to do this, have a think and try printing a few things until it works. \n",
    "# You are free to do searches on google, though it may take longer than just trying to print things until it works.\n",
    "\n",
    "#Solution:\n",
    "print(f'The Longitude, Latitude and Elevation of the Cerro Tololo Telescope is given as:\\n{location}')"
   ]
  },
  {
   "cell_type": "code",
   "execution_count": 8,
   "metadata": {},
   "outputs": [],
   "source": [
    "import ssl\n",
    "\n",
    "ssl._create_default_https_context = ssl._create_unverified_context"
   ]
  },
  {
   "cell_type": "code",
   "execution_count": 10,
   "metadata": {},
   "outputs": [],
   "source": [
    "download_IERS_A()"
   ]
  },
  {
   "cell_type": "markdown",
   "metadata": {},
   "source": [
    "\n",
    "### Sunset, Sunrise, Midnight"
   ]
  },
  {
   "cell_type": "code",
   "execution_count": 11,
   "metadata": {},
   "outputs": [
    {
     "name": "stdout",
     "output_type": "stream",
     "text": [
      "Tests:\n",
      "2459148.456151031\n",
      "2020-10-25 22:56:51.449\n",
      "\n",
      "Sunset and Sunrise:\n",
      "Sunset at Cerro Tololo will be at 2020-10-25 22:56:51.449 UTC\n",
      "Sunrise at Cerro Tololo will be at 2020-10-26 09:57:10.900 UTC\n"
     ]
    }
   ],
   "source": [
    "# Calculating the sunset, sunrise times for our observatory \n",
    "sunset_CT = CerroTololo.sun_set_time(now, which='nearest')\n",
    "sunrise_CT = CerroTololo.sun_rise_time(now, which='next')\n",
    "\n",
    "# Print sunset_CT and sunset_CT.iso to see what the difference is\n",
    "print('Tests:')\n",
    "print(sunset_CT)\n",
    "print(sunset_CT.iso)\n",
    "print('')\n",
    "\n",
    "# Print out the sunset and sunrise times in the nicer way.\n",
    "print('Sunset and Sunrise:')\n",
    "print(\"Sunset at Cerro Tololo will be at {0.iso} UTC\".format(sunset_CT))\n",
    "print(\"Sunrise at Cerro Tololo will be at {0.iso} UTC\".format(sunrise_CT))"
   ]
  },
  {
   "cell_type": "code",
   "execution_count": 12,
   "metadata": {},
   "outputs": [
    {
     "data": {
      "text/plain": [
       "'jd'"
      ]
     },
     "execution_count": 12,
     "metadata": {},
     "output_type": "execute_result"
    }
   ],
   "source": [
    "#checking current format:\n",
    "sunset_CT.format"
   ]
  },
  {
   "cell_type": "markdown",
   "metadata": {},
   "source": [
    "### Question 3\n",
    "Find the effective length of time (in hours) between sunset and sunrise in Cerre Tololo tonight."
   ]
  },
  {
   "cell_type": "code",
   "execution_count": 13,
   "metadata": {},
   "outputs": [],
   "source": [
    "#solution:\n",
    "\n",
    "def conv_to_hours(days):\n",
    "    '''1day =24 hrs\n",
    "    xdays=24*x hrs'''\n",
    "    return days*24"
   ]
  },
  {
   "cell_type": "code",
   "execution_count": 14,
   "metadata": {},
   "outputs": [
    {
     "name": "stdout",
     "output_type": "stream",
     "text": [
      "number of hours between sunset and sunrise: \n",
      "11.005402933806181 hours \n"
     ]
    }
   ],
   "source": [
    "# Fill in this cell to print number of hours between sunset and sunrise during the next night in Cerro Tololo.\n",
    "# I have not told you how to do this, have a think and try printing a few things until it works. \n",
    "# You are free to do searches on google, though it may take longer than just trying to print things until it works.\n",
    "difference=sunrise_CT-sunset_CT\n",
    "print(f'number of hours between sunset and sunrise: \\n{conv_to_hours(sunrise_CT-sunset_CT)} hours ')"
   ]
  },
  {
   "cell_type": "markdown",
   "metadata": {},
   "source": [
    "### Question 4\n",
    "What is the moonrise and moonset time in Cerro Tololo?"
   ]
  },
  {
   "cell_type": "code",
   "execution_count": 15,
   "metadata": {},
   "outputs": [
    {
     "name": "stdout",
     "output_type": "stream",
     "text": [
      "Tests \n",
      "2459148.8108662697 \n",
      "2020-10-26 07:27:38.846\n",
      "-------------------\n",
      "moonrise and moonset:\n",
      "moonset at Cerro Tololo will be at 2020-10-26 07:27:38.846\n",
      "moonrise at Cerro Tololo will be at 2020-10-26 18:54:16.365\n"
     ]
    }
   ],
   "source": [
    "# Fill in this cell to print out the next moonrise and moon\n",
    "# set time in Cerro Tololo\n",
    "\n",
    "moonset_CT = CerroTololo.moon_set_time(now, which='nearest')\n",
    "moonrise_CT = CerroTololo.moon_rise_time(now, which='next')\n",
    "\n",
    "print(f'Tests \\n{moonset_CT} \\n{moonset_CT.iso}')\n",
    "print('-------------------')\n",
    "print('moonrise and moonset:')\n",
    "print(f'moonset at Cerro Tololo will be at {moonset_CT.iso}')\n",
    "print(f'moonrise at Cerro Tololo will be at {moonrise_CT.iso}')"
   ]
  },
  {
   "cell_type": "markdown",
   "metadata": {},
   "source": [
    "### Question 5 (a)\n",
    "Turn sunset_CT, sunrise_CT, moonset_CT and moonrise_CT into datetime objects. "
   ]
  },
  {
   "cell_type": "code",
   "execution_count": 16,
   "metadata": {},
   "outputs": [],
   "source": [
    "#solution:\n",
    "#converting into datetime objects\n",
    "\n",
    "for i in [sunset_CT,sunrise_CT,moonset_CT,moonrise_CT]:\n",
    "    i.format='datetime'"
   ]
  },
  {
   "cell_type": "code",
   "execution_count": 17,
   "metadata": {},
   "outputs": [
    {
     "name": "stdout",
     "output_type": "stream",
     "text": [
      "datetime\n"
     ]
    },
    {
     "data": {
      "text/plain": [
       "<Time object: scale='utc' format='datetime' value=2020-10-25 22:56:51.449075>"
      ]
     },
     "execution_count": 17,
     "metadata": {},
     "output_type": "execute_result"
    }
   ],
   "source": [
    "#e.g\n",
    "print(sunset_CT.format)\n",
    "sunset_CT\n",
    "\n",
    "#format has been clearly converted"
   ]
  },
  {
   "cell_type": "markdown",
   "metadata": {},
   "source": [
    "### Question 5 (b)\n",
    "Plot the sunset, sunrise, moonset, moonrise times on a plot as verticle lines of different colours. Inlcude a legend, plot title and x-axis label. You are free to set the y-axis range as you like."
   ]
  },
  {
   "cell_type": "markdown",
   "metadata": {},
   "source": [
    "**solution:**"
   ]
  },
  {
   "cell_type": "code",
   "execution_count": 18,
   "metadata": {},
   "outputs": [],
   "source": [
    "list_of_dates=[i.value for i in (sunset_CT,sunrise_CT,moonset_CT,moonrise_CT)]"
   ]
  },
  {
   "cell_type": "code",
   "execution_count": 20,
   "metadata": {
    "scrolled": false
   },
   "outputs": [
    {
     "data": {
      "image/png": "[encoded data removed]",
      "text/plain": [
       "<Figure size 720x360 with 1 Axes>"
      ]
     },
     "metadata": {
      "needs_background": "light"
     },
     "output_type": "display_data"
    }
   ],
   "source": [
    "random_sequence_of_numbers=[1,2,3,4,5,6,7,8,9,10]\n",
    "CTs=['sunset_CT','sunrise_CT','moonset_CT','moonrise_CT']\n",
    "colors=['red','blue','green','k']\n",
    "fig=plt.figure(figsize=(10,5))\n",
    "for i in range(len(list_of_dates)):\n",
    "    plt.plot(10*[list_of_dates[i]],random_sequence_of_numbers,\n",
    "                  label=str(CTs[i]),c=colors[i])\n",
    "plt.title('Datetime Plot of Sun/Moon rise and set')\n",
    "plt.legend(loc='upper right')\n",
    "plt.xlabel('Date-Time')\n",
    "plt.xticks(rotation=45)\n",
    "plt.ylim([1,10])\n",
    "plt.show()"
   ]
  },
  {
   "cell_type": "code",
   "execution_count": null,
   "metadata": {},
   "outputs": [],
   "source": []
  }
 ],
 "metadata": {
  "kernelspec": {
   "display_name": "Python 3",
   "language": "python",
   "name": "python3"
  },
  "language_info": {
   "codemirror_mode": {
    "name": "ipython",
    "version": 3
   },
   "file_extension": ".py",
   "mimetype": "text/x-python",
   "name": "python",
   "nbconvert_exporter": "python",
   "pygments_lexer": "ipython3",
   "version": "3.8.3"
  }
 },
 "nbformat": 4,
 "nbformat_minor": 2
}
